{
 "cells": [
  {
   "cell_type": "markdown",
   "metadata": {},
   "source": [
    "# Matrix Operations\n",
    "\n",
    "_February 20 2024 | Chen Kai Zhang | 014806701_\n",
    "\n",
    "Observing behaviors of **matrix operations** by applying them to the [2009 Statewide Crime Data](https://www.statsmodels.org/dev/datasets/generated/statecrime.html) dataset."
   ]
  },
  {
   "cell_type": "code",
   "execution_count": 103,
   "metadata": {},
   "outputs": [
    {
     "data": {
      "text/html": [
       "<div>\n",
       "<style scoped>\n",
       "    .dataframe tbody tr th:only-of-type {\n",
       "        vertical-align: middle;\n",
       "    }\n",
       "\n",
       "    .dataframe tbody tr th {\n",
       "        vertical-align: top;\n",
       "    }\n",
       "\n",
       "    .dataframe thead th {\n",
       "        text-align: right;\n",
       "    }\n",
       "</style>\n",
       "<table border=\"1\" class=\"dataframe\">\n",
       "  <thead>\n",
       "    <tr style=\"text-align: right;\">\n",
       "      <th></th>\n",
       "      <th>violent</th>\n",
       "      <th>murder</th>\n",
       "      <th>hs_grad</th>\n",
       "      <th>poverty</th>\n",
       "      <th>single</th>\n",
       "      <th>white</th>\n",
       "      <th>urban</th>\n",
       "    </tr>\n",
       "    <tr>\n",
       "      <th>state</th>\n",
       "      <th></th>\n",
       "      <th></th>\n",
       "      <th></th>\n",
       "      <th></th>\n",
       "      <th></th>\n",
       "      <th></th>\n",
       "      <th></th>\n",
       "    </tr>\n",
       "  </thead>\n",
       "  <tbody>\n",
       "    <tr>\n",
       "      <th>Alabama</th>\n",
       "      <td>459.9</td>\n",
       "      <td>7.1</td>\n",
       "      <td>82.1</td>\n",
       "      <td>17.5</td>\n",
       "      <td>29.0</td>\n",
       "      <td>70.0</td>\n",
       "      <td>48.65</td>\n",
       "    </tr>\n",
       "    <tr>\n",
       "      <th>Alaska</th>\n",
       "      <td>632.6</td>\n",
       "      <td>3.2</td>\n",
       "      <td>91.4</td>\n",
       "      <td>9.0</td>\n",
       "      <td>25.5</td>\n",
       "      <td>68.3</td>\n",
       "      <td>44.46</td>\n",
       "    </tr>\n",
       "    <tr>\n",
       "      <th>Arizona</th>\n",
       "      <td>423.2</td>\n",
       "      <td>5.5</td>\n",
       "      <td>84.2</td>\n",
       "      <td>16.5</td>\n",
       "      <td>25.7</td>\n",
       "      <td>80.0</td>\n",
       "      <td>80.07</td>\n",
       "    </tr>\n",
       "    <tr>\n",
       "      <th>Arkansas</th>\n",
       "      <td>530.3</td>\n",
       "      <td>6.3</td>\n",
       "      <td>82.4</td>\n",
       "      <td>18.8</td>\n",
       "      <td>26.3</td>\n",
       "      <td>78.4</td>\n",
       "      <td>39.54</td>\n",
       "    </tr>\n",
       "    <tr>\n",
       "      <th>California</th>\n",
       "      <td>473.4</td>\n",
       "      <td>5.4</td>\n",
       "      <td>80.6</td>\n",
       "      <td>14.2</td>\n",
       "      <td>27.8</td>\n",
       "      <td>62.7</td>\n",
       "      <td>89.73</td>\n",
       "    </tr>\n",
       "  </tbody>\n",
       "</table>\n",
       "</div>"
      ],
      "text/plain": [
       "            violent  murder  hs_grad  poverty  single  white  urban\n",
       "state                                                              \n",
       "Alabama       459.9     7.1     82.1     17.5    29.0   70.0  48.65\n",
       "Alaska        632.6     3.2     91.4      9.0    25.5   68.3  44.46\n",
       "Arizona       423.2     5.5     84.2     16.5    25.7   80.0  80.07\n",
       "Arkansas      530.3     6.3     82.4     18.8    26.3   78.4  39.54\n",
       "California    473.4     5.4     80.6     14.2    27.8   62.7  89.73"
      ]
     },
     "execution_count": 103,
     "metadata": {},
     "output_type": "execute_result"
    }
   ],
   "source": [
    "import statsmodels.api as sm\n",
    "import pandas as pd\n",
    "import numpy as np\n",
    "\n",
    "crime_data = sm.datasets.statecrime\n",
    "crime_data = crime_data.load_pandas()\n",
    "crime_data = crime_data.data\n",
    "\n",
    "crime_data.head()"
   ]
  },
  {
   "cell_type": "code",
   "execution_count": 104,
   "metadata": {},
   "outputs": [],
   "source": [
    "def is_square(matrix):\n",
    "    rows, cols = matrix.shape\n",
    "    return rows == cols\n",
    "\n",
    "def is_symmetric(matrix):\n",
    "    return matrix.equals(matrix.T)\n",
    "\n",
    "def is_orthogonal(matrix):\n",
    "    rows, cols = matrix.shape\n",
    "    if rows == cols:\n",
    "        identity_matrix = np.eye(rows)\n",
    "        return np.allclose(matrix @ matrix.T, identity_matrix) # Checks if all elements are equal\n",
    "    else:\n",
    "        return False\n",
    "    \n",
    "def is_positive_definite(matrix):\n",
    "    if not is_square(matrix) and not is_symmetric(matrix):\n",
    "        return False\n",
    "    eigenvalues = np.linalg.eigvals(matrix)\n",
    "    return np.all(eigenvalues > 0)\n",
    "\n",
    "def get_eigens(matrix):\n",
    "    return np.linalg.eig(matrix)\n",
    "\n",
    "def compute_inverse(matrix):\n",
    "    eigenvalues, eigenvectors = get_eigens(matrix)\n",
    "\n",
    "    Q = eigenvectors\n",
    "    lmbda_inv = np.diag(1/eigenvalues)\n",
    "    return Q @ lmbda_inv @ Q.T  # Spectral Decomposition\n",
    "\n",
    "def compute_square_root(matrix):\n",
    "    eigenvalues, eigenvectors = get_eigens(matrix)\n",
    "\n",
    "    Q = eigenvectors\n",
    "    lmbda_sqrt = np.diag(np.sqrt(eigenvalues))\n",
    "    return Q @ lmbda_sqrt @ Q.T # Spectral Decomposition\n",
    "\n",
    "def perform_pca(matrix, k=2):\n",
    "    # 1. Get the eigens\n",
    "    eigenvalues, eigenvectors = get_eigens(matrix)\n",
    "\n",
    "    # 2. Sort by eigenvalues in descending order\n",
    "    indicies = np.argsort(eigenvalues)[::-1]\n",
    "    eigenvalues = eigenvalues[indicies]\n",
    "    eigenvectors = eigenvectors[:, indicies]\n",
    "\n",
    "    # 3. Project the data (keep top k components)\n",
    "    W = eigenvectors[:, :k]\n",
    "    \n",
    "    # 4. Return the eigenvalues and eigenvectors\n",
    "    return eigenvalues[:k], W\n",
    "\n",
    "\n"
   ]
  },
  {
   "cell_type": "markdown",
   "metadata": {},
   "source": [
    "Computations for **covariance** and **correlation** matrix will be done one after the other for easier comparison"
   ]
  },
  {
   "cell_type": "markdown",
   "metadata": {},
   "source": [
    "##### 1. Computing the matrix"
   ]
  },
  {
   "cell_type": "code",
   "execution_count": 105,
   "metadata": {},
   "outputs": [
    {
     "name": "stdout",
     "output_type": "stream",
     "text": [
      "              violent    murder     hs_grad     poverty      single  \\\n",
      "violent  43271.258282  658.3354 -269.241388  234.676188  804.975953   \n",
      "murder     658.335400   13.2940   -5.640000    6.144800   15.309800   \n",
      "hs_grad   -269.241388   -5.6400   11.409325   -7.801992   -9.076702   \n",
      "poverty    234.676188    6.1448   -7.801992    9.675725    7.344569   \n",
      "single     804.975953   15.3098   -9.076702    7.344569   22.911208   \n",
      "white    -1626.801965  -28.3890   15.633910   -7.880843  -48.767439   \n",
      "urban     1851.604044   22.5923  -11.900056  -12.624051   41.928423   \n",
      "\n",
      "               white        urban  \n",
      "violent -1626.801965  1851.604044  \n",
      "murder    -28.389000    22.592300  \n",
      "hs_grad    15.633910   -11.900056  \n",
      "poverty    -7.880843   -12.624051  \n",
      "single    -48.767439    41.928423  \n",
      "white     183.684596  -126.569354  \n",
      "urban    -126.569354   432.741194  \n"
     ]
    }
   ],
   "source": [
    "crime_data_cov = crime_data.cov()\n",
    "print(crime_data_cov)"
   ]
  },
  {
   "cell_type": "code",
   "execution_count": 106,
   "metadata": {},
   "outputs": [
    {
     "name": "stdout",
     "output_type": "stream",
     "text": [
      "          violent    murder   hs_grad   poverty    single     white     urban\n",
      "violent  1.000000  0.868000 -0.383188  0.362683  0.808461 -0.577030  0.427892\n",
      "murder   0.868000  1.000000 -0.457953  0.541799  0.877239 -0.574495  0.297864\n",
      "hs_grad -0.383188 -0.457953  1.000000 -0.742564 -0.561402  0.341508 -0.169358\n",
      "poverty  0.362683  0.541799 -0.742564  1.000000  0.493288 -0.186937 -0.195094\n",
      "single   0.808461  0.877239 -0.561402  0.493288  1.000000 -0.751743  0.421086\n",
      "white   -0.577030 -0.574495  0.341508 -0.186937 -0.751743  1.000000 -0.448929\n",
      "urban    0.427892  0.297864 -0.169358 -0.195094  0.421086 -0.448929  1.000000\n"
     ]
    }
   ],
   "source": [
    "crime_data_corr = crime_data.corr()\n",
    "print(crime_data_corr)"
   ]
  },
  {
   "cell_type": "markdown",
   "metadata": {},
   "source": [
    "**Analysis**\n",
    "\n",
    "Looking at the two matrices side by side, the fact that the correlation matrix standardizes the relationship between $[-1,1]$ makes it a lot easier to understand the relationship strength between two variables. Regardless of my preferences, both clearly show the positive/negative effect a variable has on another variable, but it is only through the correlation matrix I can clearly see whether or not a variable is redundant, which, none of the variables appears to be.\n",
    "\n",
    "- Just wanted to pointed how although all relationships don't have a correlation high enough to be considered redundant, **murder** and **violent** relationship is at $8.77$, which, is considerably high and makes sense in this dataset\n"
   ]
  },
  {
   "cell_type": "markdown",
   "metadata": {},
   "source": [
    "##### 2. Checking if matrix is **square/symmetric/orthogonal**"
   ]
  },
  {
   "cell_type": "code",
   "execution_count": 107,
   "metadata": {},
   "outputs": [
    {
     "name": "stdout",
     "output_type": "stream",
     "text": [
      "IS SQUARE: True\n",
      "IS SYMMETRIC: True\n",
      "IS ORTHOGONAL: False\n"
     ]
    }
   ],
   "source": [
    "print(f\"IS SQUARE: {is_square(crime_data_cov)}\")\n",
    "print(f\"IS SYMMETRIC: {is_symmetric(crime_data_cov)}\")\n",
    "print(f\"IS ORTHOGONAL: {is_orthogonal(crime_data_cov)}\")"
   ]
  },
  {
   "cell_type": "code",
   "execution_count": 108,
   "metadata": {},
   "outputs": [
    {
     "name": "stdout",
     "output_type": "stream",
     "text": [
      "IS SQUARE: True\n",
      "IS SYMMETRIC: True\n",
      "IS ORTHOGONAL: False\n"
     ]
    }
   ],
   "source": [
    "print(f\"IS SQUARE: {is_square(crime_data_corr)}\")\n",
    "print(f\"IS SYMMETRIC: {is_symmetric(crime_data_corr)}\")\n",
    "print(f\"IS ORTHOGONAL: {is_orthogonal(crime_data_corr)}\")"
   ]
  },
  {
   "cell_type": "markdown",
   "metadata": {},
   "source": [
    "**Analysis**\n",
    "\n",
    "Both being the **True** for the first two properties makes a lot of sense since\n",
    "\n",
    "- **square** : compares variances/relationships between the same set of variables\n",
    "- **symmetric** : $Cov(x,y) = Cov(y,x)$ and $Corr(x,y) = Corr(y,x)$\n",
    "    - $x$ and $y$ are two random variables\n",
    "\n",
    "Determining if a matrix was orthogonal took a bit of math. Since both matrices are square, there is potential that both either could be orthogonal, so to determine if they were, we can use the formula \n",
    "\n",
    "$$AA^T = I$$\n",
    "\n",
    "... where $I$ is the **identity matrix**. With the formula, it showed that neither were orthogonal.\n"
   ]
  },
  {
   "cell_type": "markdown",
   "metadata": {},
   "source": [
    "##### 3. Checking if matrix is **positive definite**"
   ]
  },
  {
   "cell_type": "code",
   "execution_count": 109,
   "metadata": {},
   "outputs": [
    {
     "name": "stdout",
     "output_type": "stream",
     "text": [
      "IS_POSITIVE_DEFINITE: True\n"
     ]
    }
   ],
   "source": [
    "print(f\"IS_POSITIVE_DEFINITE: {is_positive_definite(crime_data_cov)}\")"
   ]
  },
  {
   "cell_type": "code",
   "execution_count": 110,
   "metadata": {},
   "outputs": [
    {
     "name": "stdout",
     "output_type": "stream",
     "text": [
      "IS_POSITIVE_DEFINITE: True\n"
     ]
    }
   ],
   "source": [
    "print(f\"IS_POSITIVE_DEFINITE: {is_positive_definite(crime_data_corr)}\")"
   ]
  },
  {
   "cell_type": "markdown",
   "metadata": {},
   "source": [
    "**Analysis**\n",
    "\n",
    "A matrix is **positive definite** if it is :\n",
    "\n",
    "1. square\n",
    "2. symmetric\n",
    "3. all positive $\\lambda$ (eigenvalues)\n",
    "\n",
    "From section 2, we determined that both matrices are square and symmetric so for this scenario, we just have to verify property 3. This is easily achieved with the `np.linalg.eigvals()` method in `numpy`, which will give us all the eigenvalues for a matrix in a list, and verify that all the elements returned are greater than $0$. \n",
    "\n",
    "Through this confirmation, it shows that the dataset's variance is robust, no redundant variables, and all lead to a positive stretch."
   ]
  },
  {
   "cell_type": "markdown",
   "metadata": {},
   "source": [
    "##### 4. Computing matrix **eigenvalues** and **eigenvectors**"
   ]
  },
  {
   "cell_type": "code",
   "execution_count": 111,
   "metadata": {},
   "outputs": [
    {
     "name": "stdout",
     "output_type": "stream",
     "text": [
      "EIGENVALUES:\n",
      "[4.34406319e+04 3.67657252e+02 1.12546128e+02 1.67052073e+01\n",
      " 4.47123980e+00 1.02712177e+00 1.93549041e+00]\n",
      "\n",
      "EIGENVECTORS:\n",
      "[[ 0.99803654 -0.0504589  -0.03075742 -0.01482434  0.01392456 -0.00385533\n",
      "   0.00156037]\n",
      " [ 0.0151849  -0.01355376  0.04928396  0.21302951 -0.56450146  0.72068897\n",
      "  -0.33722507]\n",
      " [-0.00621958 -0.00335919 -0.06027943 -0.68426506 -0.48261806 -0.3613952\n",
      "  -0.4056736 ]\n",
      " [ 0.00539354 -0.06188794  0.04947431  0.5799116   0.07048666 -0.43832801\n",
      "  -0.67845104]\n",
      " [ 0.01859539  0.03021564  0.15772355  0.36006835 -0.65784629 -0.39631668\n",
      "   0.50436757]\n",
      " [-0.03769432 -0.22504671 -0.95664658  0.1307852  -0.10216165 -0.02498129\n",
      "   0.06778347]\n",
      " [ 0.0431053   0.97049976 -0.2247095   0.05593343 -0.00754388 -0.01279207\n",
      "  -0.04928177]]\n"
     ]
    }
   ],
   "source": [
    "eigenvalues, eigenvectors = get_eigens(crime_data_cov)\n",
    "print(f\"EIGENVALUES:\\n{eigenvalues}\")\n",
    "print(f\"\\nEIGENVECTORS:\\n{eigenvectors}\")"
   ]
  },
  {
   "cell_type": "code",
   "execution_count": 112,
   "metadata": {},
   "outputs": [
    {
     "name": "stdout",
     "output_type": "stream",
     "text": [
      "EIGENVALUES:\n",
      "[4.06197705 1.45610196 0.66628181 0.47235681 0.06505327 0.15627176\n",
      " 0.12195733]\n",
      "\n",
      "EIGENVECTORS:\n",
      "[[ 0.43087353  0.14760338  0.34635648 -0.35595713  0.22206973 -0.55614757\n",
      "   0.43275613]\n",
      " [ 0.45140908 -0.01438198  0.38921085 -0.21847911 -0.68097708  0.24818803\n",
      "  -0.26735316]\n",
      " [-0.33382774  0.40532197  0.6271116   0.02076648  0.21043968  0.4853986\n",
      "   0.22511391]\n",
      " [ 0.29655969 -0.62570407 -0.05851202 -0.0431628   0.18488676  0.50152191\n",
      "   0.47911664]\n",
      " [ 0.47364909  0.0617134   0.09420384  0.11893395  0.61543067  0.15359427\n",
      "  -0.58862742]\n",
      " [-0.37022653 -0.28293657  0.0444035  -0.81333025  0.17241444  0.022798\n",
      "  -0.29858829]\n",
      " [ 0.22311005  0.58168142 -0.56658049 -0.38420795 -0.0023749   0.34330105\n",
      "   0.1593053 ]]\n"
     ]
    }
   ],
   "source": [
    "eigenvalues, eigenvectors = get_eigens(crime_data_corr)\n",
    "print(f\"EIGENVALUES:\\n{eigenvalues}\")\n",
    "print(f\"\\nEIGENVECTORS:\\n{eigenvectors}\")"
   ]
  },
  {
   "cell_type": "markdown",
   "metadata": {},
   "source": [
    "**Analysis**\n",
    "\n",
    "The eigenvalues and the eigenvectors for the **covariance matrix** tells us that rate of violent crime is the dominating factor in variance for the dataset. Since the values are not standardized, it's hard to interpret more information from that. However, the **correlation matrix** is a lot more interesting and tells us a lot more hidden details about the data.\n",
    "\n",
    "_Exploring **eigenvalues**_ :\n",
    "\n",
    "PC1's eigenvalue is absurdly high, indicating its importance on capturing the overall trend of the dataset.\n",
    "\n",
    "_Exploring **eigenvectors**_ :\n",
    "\n",
    "- Highest positive value for `single` (0.4736) indicate that an increase in number of single-parent household often contribute to increased crime rates \n",
    "- Large positive values for `violent` (0.4514) and `murder` (0.4309) suggests high single-parent households lead to higher violent crimes leads to higher murder rates\n",
    "- Large negative value for `white` (-0.3702) and `hs_grad` (-0.3338) show that regions with high white population and high school graduates lead to lower crime rates\n",
    "\n"
   ]
  },
  {
   "cell_type": "markdown",
   "metadata": {},
   "source": [
    "##### 5. Computing matrix **inverse** and **square root** using **spectral decomposition**"
   ]
  },
  {
   "cell_type": "code",
   "execution_count": 113,
   "metadata": {},
   "outputs": [
    {
     "name": "stdout",
     "output_type": "stream",
     "text": [
      "INVERSE:\n",
      "[[ 1.10509235e-04 -4.93529269e-03  1.50476531e-04  7.98306465e-04\n",
      "  -5.20849393e-04  5.65706658e-06 -1.35639473e-04]\n",
      " [-4.93529269e-03  6.38441184e-01 -1.30715514e-01 -1.90828467e-01\n",
      "  -2.78242376e-01 -1.51831608e-02  1.14235502e-03]\n",
      " [ 1.50476531e-04 -1.30715514e-01  2.92339445e-01  2.65040246e-01\n",
      "   8.99040945e-02  7.66972157e-04  1.34648995e-02]\n",
      " [ 7.98306465e-04 -1.90828467e-01  2.65040246e-01  4.46151444e-01\n",
      "  -5.47406573e-03 -1.05524510e-02  2.42945228e-02]\n",
      " [-5.20849393e-04 -2.78242376e-01  8.99040945e-02 -5.47406573e-03\n",
      "   3.89124515e-01  4.37933916e-02 -5.82605727e-03]\n",
      " [ 5.65706658e-06 -1.51831608e-02  7.66972157e-04 -1.05524510e-02\n",
      "   4.37933916e-02  1.46089453e-02  5.11430698e-04]\n",
      " [-1.35639473e-04  1.14235502e-03  1.34648995e-02  2.42945228e-02\n",
      "  -5.82605727e-03  5.11430698e-04  4.62465647e-03]]\n",
      "\n",
      "SQUARE ROOT:\n",
      "[[ 2.07666683e+02  3.12264092e+00 -1.24306538e+00  1.13285015e+00\n",
      "   3.74887735e+00 -7.32177992e+00  8.09722394e+00]\n",
      " [ 3.12264092e+00  1.62125212e+00 -1.43672430e-01  4.77954575e-01\n",
      "   7.06121449e-01 -3.75215263e-01 -1.61798972e-01]\n",
      " [-1.24306538e+00 -1.43672430e-01  2.81436766e+00 -1.18498330e+00\n",
      "  -6.02087798e-01  3.84506172e-01 -9.09214388e-02]\n",
      " [ 1.13285015e+00  4.77954575e-01 -1.18498330e+00  2.32558313e+00\n",
      "   5.23218343e-01 -3.55458034e-02 -1.03749322e+00]\n",
      " [ 3.74887735e+00  7.06121449e-01 -6.02087798e-01  5.23218343e-01\n",
      "   2.31156860e+00 -1.48501002e+00  4.16710517e-01]\n",
      " [-7.32177992e+00 -3.75215263e-01  3.84506172e-01 -3.55458034e-02\n",
      "  -1.48501002e+00  1.10751151e+01 -2.21874094e+00]\n",
      " [ 8.09722394e+00 -1.61798972e-01 -9.09214388e-02 -1.03749322e+00\n",
      "   4.16710517e-01 -2.21874094e+00  1.89991806e+01]]\n"
     ]
    }
   ],
   "source": [
    "print(f\"INVERSE:\\n{compute_inverse(crime_data_cov)}\")\n",
    "print(f\"\\nSQUARE ROOT:\\n{compute_square_root(crime_data_cov)}\")"
   ]
  },
  {
   "cell_type": "code",
   "execution_count": 114,
   "metadata": {},
   "outputs": [
    {
     "name": "stdout",
     "output_type": "stream",
     "text": [
      "INVERSE:\n",
      "[[ 4.78187364 -3.74317829  0.10573007  0.51654859 -0.51860407  0.01594878\n",
      "  -0.58694847]\n",
      " [-3.74317829  8.48743711 -1.60984831 -2.16427662 -4.85596003 -0.75028523\n",
      "   0.08664491]\n",
      " [ 0.10573007 -1.60984831  3.33539588  2.78473312  1.45356162  0.03511122\n",
      "   0.94612217]\n",
      " [ 0.51654859 -2.16427662  2.78473312  4.3168389  -0.08150341 -0.44486832\n",
      "   1.57204242]\n",
      " [-0.51860407 -4.85596003  1.45356162 -0.08150341  8.91531265  2.84098501\n",
      "  -0.58011335]\n",
      " [ 0.01594878 -0.75028523  0.03511122 -0.44486832  2.84098501  2.68343821\n",
      "   0.14419071]\n",
      " [-0.58694847  0.08664491  0.94612217  1.57204242 -0.58011335  0.14419071\n",
      "   2.00127936]]\n",
      "\n",
      "SQUARE ROOT:\n",
      "[[ 0.78571279  0.41938692 -0.10626304  0.1127234   0.33197574 -0.20074077\n",
      "   0.17962982]\n",
      " [ 0.41938692  0.7349812  -0.12457755  0.24091615  0.40505268 -0.19551388\n",
      "   0.08979827]\n",
      " [-0.10626304 -0.12457755  0.86628336 -0.39230258 -0.22234209  0.11198412\n",
      "  -0.08284917]\n",
      " [ 0.1127234   0.24091615 -0.39230258  0.84206832  0.18945969 -0.02295971\n",
      "  -0.17277253]\n",
      " [ 0.33197574  0.40505268 -0.22234209  0.18945969  0.70064019 -0.34773309\n",
      "   0.16905169]\n",
      " [-0.20074077 -0.19551388  0.11198412 -0.02295971 -0.34773309  0.86802351\n",
      "  -0.18446343]\n",
      " [ 0.17962982  0.08979827 -0.08284917 -0.17277253  0.16905169 -0.18446343\n",
      "   0.92755045]]\n"
     ]
    }
   ],
   "source": [
    "print(f\"INVERSE:\\n{compute_inverse(crime_data_corr)}\")\n",
    "print(f\"\\nSQUARE ROOT:\\n{compute_square_root(crime_data_corr)}\")"
   ]
  },
  {
   "cell_type": "markdown",
   "metadata": {},
   "source": [
    "**Analysis**\n",
    "\n",
    "The inverses showed behavior that I personally found really interesting and against the norm of what we are told. The inverse correlation matrix does make more sense to me as it shows that murder rates and single-parent households are inverted, however both show that increase in high school graduate have some positive affect on the increase of poverty, which is very much against what we know. \n",
    "\n",
    "The square root matrices made a lot more sense to me since it showed that :\n",
    "\n",
    "- Urban areas experience more violent crimes\n",
    "- Increased high school graduates lead to lower poverty \n",
    "- Large number of single-parent households lead to more murder\n",
    "- Increase in violent crimes suggest low white population (not to offend anyone but its an ongoing issue in America)\n",
    "\n",
    "_Full Analysis_\n",
    "\n",
    "---\n",
    "\n",
    "_Exploring **inverse covariance matrix**_ : \n",
    "\n",
    "- Diagonals :\n",
    "    - High values for `murder` (0.638), `poverty` (0.446), and `single` (0.389) indicate that these three features they have low conditional variance\n",
    "    - Low values for `violent` (0.0001) and `white` (0.0015) indicate high conditional variance\n",
    "- Off-Diagonals :\n",
    "    - `murder` has strong negative relationships with `violent` (-0.0049), `single` (-0.2782), and `poverty` (-0.1908), suggesting that higher murder rates associate to low values in those other features\n",
    "    - `hs_grad` and `poverty have the highest positive value (0.265), indicating that higher graduation rates relate to higher poverty\n",
    "        - This I find very counterintuitive and interesting, but may just be this dataset\n",
    "    - `single` and `white` (0.0438) show a positive conditional relationship\n",
    "\n",
    "_Exploring **square root covariance matrix**_ :\n",
    "\n",
    "- Diagonals : \n",
    "    - High values for `violent` (207.67), `white` (11.08), and `urban` (18.999), suggesting that these features dominate the variance\n",
    "- Off-Diagonals : \n",
    "    - `violent` is a major player in determining the variance out of the 3 above\n",
    "    - `violent` and `white` (-7.322) suggests that as violent crime goes up, the `white` population goes down\n",
    "    - `violent` and `urban` (8.097) suggests that as violent crimes goes up, the `urbanized` areas increase\n",
    "\n",
    "_Exploring **inverse correlation matrix**_ :\n",
    "\n",
    "- Diagonal :\n",
    "    - High values for `single` (8.915) and `murder` (8.487) indicate that they are conditionally independent\n",
    "    - Low values for `urban` (2.001) shows how it doesn't really play a factor much in influencing other variables\n",
    "- Off-Diagonal : \n",
    "    - `murder` and `single` (-4.856) have a strong negative partial correlation\n",
    "    - `hs_grad` and `poverty` (2.785) & `single` and `white` (2.841) have a strong positive correlation\n",
    "\n",
    "_Exploring **square root correlation matrix**_ :\n",
    "\n",
    "- Off-Diagonal :\n",
    "    - `hs_grad` and `poverty` (-0.392) indicate a negative relationship in the structure.\n",
    "    - `murder` and `single` (0.405) show a positive contribution to correlation.\n"
   ]
  },
  {
   "cell_type": "markdown",
   "metadata": {},
   "source": [
    "##### 6. Performing **PCA**"
   ]
  },
  {
   "cell_type": "code",
   "execution_count": 115,
   "metadata": {},
   "outputs": [
    {
     "name": "stdout",
     "output_type": "stream",
     "text": [
      "PCA RESULTS:\n",
      "\n",
      "EIGENVALUES:\n",
      "[43440.63189141   367.65725234]\n",
      "\n",
      "EIGENVECTORS:\n",
      "[[ 0.99803654 -0.0504589 ]\n",
      " [ 0.0151849  -0.01355376]\n",
      " [-0.00621958 -0.00335919]\n",
      " [ 0.00539354 -0.06188794]\n",
      " [ 0.01859539  0.03021564]\n",
      " [-0.03769432 -0.22504671]\n",
      " [ 0.0431053   0.97049976]]\n"
     ]
    }
   ],
   "source": [
    "eigenvalues, eigenvectors = perform_pca(crime_data_cov)\n",
    "print(f\"PCA RESULTS:\")\n",
    "print(f\"\\nEIGENVALUES:\\n{eigenvalues}\")\n",
    "print(f\"\\nEIGENVECTORS:\\n{eigenvectors}\")"
   ]
  },
  {
   "cell_type": "code",
   "execution_count": 116,
   "metadata": {},
   "outputs": [
    {
     "name": "stdout",
     "output_type": "stream",
     "text": [
      "PCA RESULTS:\n",
      "\n",
      "EIGENVALUES:\n",
      "[4.06197705 1.45610196]\n",
      "\n",
      "EIGENVECTORS:\n",
      "[[ 0.43087353  0.14760338]\n",
      " [ 0.45140908 -0.01438198]\n",
      " [-0.33382774  0.40532197]\n",
      " [ 0.29655969 -0.62570407]\n",
      " [ 0.47364909  0.0617134 ]\n",
      " [-0.37022653 -0.28293657]\n",
      " [ 0.22311005  0.58168142]]\n"
     ]
    }
   ],
   "source": [
    "eigenvalues, eigenvectors = perform_pca(crime_data_corr)\n",
    "print(f\"PCA RESULTS:\")\n",
    "print(f\"\\nEIGENVALUES:\\n{eigenvalues}\")\n",
    "print(f\"\\nEIGENVECTORS:\\n{eigenvectors}\")"
   ]
  },
  {
   "cell_type": "markdown",
   "metadata": {},
   "source": [
    "**Analysis**\n",
    "\n",
    "From the PCA results, it really shows the importance in standardizing the data. Although both covariance and correlation matrix identifies `violent` and `urban` as the top influence on data variance, it is through the latter that we are able to observe how other features influence the data variance.\n",
    "\n",
    "In covariance matrix PCA, we realize how overshadowing the raw scale of `violent` can be on other features. PC1's near 98% influence on the variance alongside `violent`'s high influence in that component, we could easily be mislead to believe that is the only valuable feature. It is through the correlation matrix PCA that we understand that not only is PC1 is not the only influential component, but that `single` has the most influence on the component, not `violent`. In addition, we are also able to recognize the significance of PC2 and how demographic and family structures (`urban` and `single`) play a role in data variance. \n",
    "\n",
    "_Exploring **covariance matrix PCA**_ :\n",
    "\n",
    "- PC1 (43440.63) captures the majority of the variance while PC2 (367.66)\n",
    "- PC1 is largely influenced by `violent` (0.9989)\n",
    "- PC2 is mostly influenced by `urban` (0.9705) with a some contributions from `white` (-0.225)\n",
    "\n",
    "_Exploring **correlation matrix PCA**_ :\n",
    "\n",
    "- PC1 (4.062) and PC2 (1.456) explains most of the variance by capturing $\\frac{4.062}{7} + \\frac{1.456}{7} * 100 = 78.9%$ of the variance in the dataset\n",
    "- PC1 is largely influenced by `single` (0.4736), `murder` (0.4514), and `violent` (0.4309)\n",
    "- PC2 is mostly influenced by `single` (-0.626), `urban` (0.582), and `hs_grad` (0.405)"
   ]
  }
 ],
 "metadata": {
  "kernelspec": {
   "display_name": "venv",
   "language": "python",
   "name": "python3"
  },
  "language_info": {
   "codemirror_mode": {
    "name": "ipython",
    "version": 3
   },
   "file_extension": ".py",
   "mimetype": "text/x-python",
   "name": "python",
   "nbconvert_exporter": "python",
   "pygments_lexer": "ipython3",
   "version": "3.11.4"
  }
 },
 "nbformat": 4,
 "nbformat_minor": 2
}
